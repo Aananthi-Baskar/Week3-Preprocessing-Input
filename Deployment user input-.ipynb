{
 "cells": [
  {
   "cell_type": "code",
   "execution_count": 1,
   "id": "20712698-e899-47f2-b6b4-8b78a82333eb",
   "metadata": {},
   "outputs": [],
   "source": [
    "import pickle\n",
    "import pandas as pd\n",
    "from pandas.api.types import CategoricalDtype\n",
    "filename=\"finalized_model_SVM2.sav\""
   ]
  },
  {
   "cell_type": "code",
   "execution_count": 2,
   "id": "708f9594-5f55-441e-82c6-48bf1be77bf8",
   "metadata": {},
   "outputs": [],
   "source": [
    "with open('scaler.pkl', 'rb') as f:\n",
    "    sc = pickle.load(f)"
   ]
  },
  {
   "cell_type": "code",
   "execution_count": 3,
   "id": "6e240979-4d90-431c-8884-80044bc30452",
   "metadata": {},
   "outputs": [],
   "source": [
    "with open('startup_model.pkl', 'rb') as f:\n",
    "    regressor=pickle.load(f)\n"
   ]
  },
  {
   "cell_type": "code",
   "execution_count": 4,
   "id": "c3745f14-de0a-412f-83f7-5abdc371d032",
   "metadata": {},
   "outputs": [
    {
     "name": "stdin",
     "output_type": "stream",
     "text": [
      "RD_Spend: 1300\n",
      "Administration: 16000\n",
      "Marketing_Spend: 5000\n",
      "State: California\n"
     ]
    }
   ],
   "source": [
    "RD_Spend=int(input(\"RD_Spend:\"))\n",
    "Administration=int(input(\"Administration:\"))\n",
    "Marketing_Spend=int(input(\"Marketing_Spend:\")) \n",
    "State=input(\"State:\")"
   ]
  },
  {
   "cell_type": "code",
   "execution_count": 5,
   "id": "72794a44-bb26-494c-9fc9-2b0e3c179331",
   "metadata": {},
   "outputs": [],
   "source": [
    "input_df=pd.DataFrame([[RD_Spend, Administration, Marketing_Spend]], columns=['RD_Spend', 'Administration', 'Marketing_Spend'])\n"
   ]
  },
  {
   "cell_type": "code",
   "execution_count": 6,
   "id": "541bba8f-0f9a-4f4a-bf96-ddc7a6e2657a",
   "metadata": {},
   "outputs": [
    {
     "data": {
      "text/html": [
       "<div>\n",
       "<style scoped>\n",
       "    .dataframe tbody tr th:only-of-type {\n",
       "        vertical-align: middle;\n",
       "    }\n",
       "\n",
       "    .dataframe tbody tr th {\n",
       "        vertical-align: top;\n",
       "    }\n",
       "\n",
       "    .dataframe thead th {\n",
       "        text-align: right;\n",
       "    }\n",
       "</style>\n",
       "<table border=\"1\" class=\"dataframe\">\n",
       "  <thead>\n",
       "    <tr style=\"text-align: right;\">\n",
       "      <th></th>\n",
       "      <th>California</th>\n",
       "      <th>Florida</th>\n",
       "    </tr>\n",
       "  </thead>\n",
       "  <tbody>\n",
       "    <tr>\n",
       "      <th>0</th>\n",
       "      <td>1</td>\n",
       "      <td>0</td>\n",
       "    </tr>\n",
       "  </tbody>\n",
       "</table>\n",
       "</div>"
      ],
      "text/plain": [
       "   California  Florida\n",
       "0           1        0"
      ]
     },
     "execution_count": 6,
     "metadata": {},
     "output_type": "execute_result"
    }
   ],
   "source": [
    "state_series = pd.Series([State])\n",
    "cat_type = CategoricalDtype(categories=['New York', 'California', 'Florida'], ordered=False)\n",
    "state_series = state_series.astype(cat_type)\n",
    "state_dummies = pd.get_dummies(state_series, drop_first=True)\n",
    "state_dummies=state_dummies.astype(int)\n",
    "state_dummies\n"
   ]
  },
  {
   "cell_type": "code",
   "execution_count": 7,
   "id": "6aae3b5a-e409-4d1c-8a38-5bf4799ab238",
   "metadata": {},
   "outputs": [
    {
     "data": {
      "text/html": [
       "<div>\n",
       "<style scoped>\n",
       "    .dataframe tbody tr th:only-of-type {\n",
       "        vertical-align: middle;\n",
       "    }\n",
       "\n",
       "    .dataframe tbody tr th {\n",
       "        vertical-align: top;\n",
       "    }\n",
       "\n",
       "    .dataframe thead th {\n",
       "        text-align: right;\n",
       "    }\n",
       "</style>\n",
       "<table border=\"1\" class=\"dataframe\">\n",
       "  <thead>\n",
       "    <tr style=\"text-align: right;\">\n",
       "      <th></th>\n",
       "      <th>RD_Spend</th>\n",
       "      <th>Administration</th>\n",
       "      <th>Marketing_Spend</th>\n",
       "      <th>California</th>\n",
       "      <th>Florida</th>\n",
       "    </tr>\n",
       "  </thead>\n",
       "  <tbody>\n",
       "    <tr>\n",
       "      <th>0</th>\n",
       "      <td>1300</td>\n",
       "      <td>16000</td>\n",
       "      <td>5000</td>\n",
       "      <td>1</td>\n",
       "      <td>0</td>\n",
       "    </tr>\n",
       "  </tbody>\n",
       "</table>\n",
       "</div>"
      ],
      "text/plain": [
       "   RD_Spend  Administration  Marketing_Spend  California  Florida\n",
       "0      1300           16000             5000           1        0"
      ]
     },
     "execution_count": 7,
     "metadata": {},
     "output_type": "execute_result"
    }
   ],
   "source": [
    "input_df['California']=state_dummies.California\n",
    "input_df['Florida']=state_dummies.Florida\n",
    "\n",
    "input_df"
   ]
  },
  {
   "cell_type": "code",
   "execution_count": 8,
   "id": "fb87feae-488b-4d6b-8c09-5953f3f4072a",
   "metadata": {},
   "outputs": [],
   "source": [
    "preinput=sc.transform(input_df)"
   ]
  },
  {
   "cell_type": "code",
   "execution_count": 9,
   "id": "b51d7a0c-5c65-45a9-9c65-002f882dc51a",
   "metadata": {},
   "outputs": [],
   "source": [
    "load_model=pickle.load(open(\"finalized_model_SVM2.sav\", 'rb'))\n",
    "result=load_model.predict(preinput)"
   ]
  },
  {
   "cell_type": "code",
   "execution_count": 10,
   "id": "ed94444b-c3c9-4198-ab08-a26e8ccfd5f1",
   "metadata": {},
   "outputs": [
    {
     "data": {
      "text/plain": [
       "array([108581.44141411])"
      ]
     },
     "execution_count": 10,
     "metadata": {},
     "output_type": "execute_result"
    }
   ],
   "source": [
    "result"
   ]
  },
  {
   "cell_type": "code",
   "execution_count": null,
   "id": "f03227a2-ee49-44e5-af83-0abcd3b70b29",
   "metadata": {},
   "outputs": [],
   "source": []
  },
  {
   "cell_type": "code",
   "execution_count": null,
   "id": "15a2158b-93e1-4c7a-9f14-17007535b303",
   "metadata": {},
   "outputs": [],
   "source": []
  }
 ],
 "metadata": {
  "kernelspec": {
   "display_name": "Python 3 (ipykernel)",
   "language": "python",
   "name": "python3"
  },
  "language_info": {
   "codemirror_mode": {
    "name": "ipython",
    "version": 3
   },
   "file_extension": ".py",
   "mimetype": "text/x-python",
   "name": "python",
   "nbconvert_exporter": "python",
   "pygments_lexer": "ipython3",
   "version": "3.12.7"
  }
 },
 "nbformat": 4,
 "nbformat_minor": 5
}
