{
 "cells": [
  {
   "cell_type": "code",
   "execution_count": 1,
   "id": "20712698-e899-47f2-b6b4-8b78a82333eb",
   "metadata": {},
   "outputs": [],
   "source": [
    "import pickle\n",
    "filename=\"finalized_model_SVM2.sav\""
   ]
  },
  {
   "cell_type": "code",
   "execution_count": 2,
   "id": "708f9594-5f55-441e-82c6-48bf1be77bf8",
   "metadata": {},
   "outputs": [],
   "source": [
    "with open('scaler.pkl', 'rb') as f:\n",
    "    sc = pickle.load(f)"
   ]
  },
  {
   "cell_type": "code",
   "execution_count": 3,
   "id": "6e240979-4d90-431c-8884-80044bc30452",
   "metadata": {},
   "outputs": [],
   "source": [
    "with open('startup_model.pkl', 'rb') as f:\n",
    "    regressor=pickle.load(f)\n"
   ]
  },
  {
   "cell_type": "code",
   "execution_count": 4,
   "id": "a01ae776-5678-46f5-a16c-0914d6bb9437",
   "metadata": {},
   "outputs": [
    {
     "name": "stderr",
     "output_type": "stream",
     "text": [
      "C:\\Users\\DELL\\anaconda3\\Lib\\site-packages\\sklearn\\base.py:493: UserWarning: X does not have valid feature names, but StandardScaler was fitted with feature names\n",
      "  warnings.warn(\n"
     ]
    }
   ],
   "source": [
    "preinput=sc.transform([[162597,151377,443898,0,0]])"
   ]
  },
  {
   "cell_type": "code",
   "execution_count": 5,
   "id": "b51d7a0c-5c65-45a9-9c65-002f882dc51a",
   "metadata": {},
   "outputs": [],
   "source": [
    "load_model=pickle.load(open(\"finalized_model_SVM2.sav\", 'rb'))\n",
    "result=load_model.predict(preinput)"
   ]
  },
  {
   "cell_type": "code",
   "execution_count": 6,
   "id": "ed94444b-c3c9-4198-ab08-a26e8ccfd5f1",
   "metadata": {},
   "outputs": [
    {
     "data": {
      "text/plain": [
       "array([108839.29028281])"
      ]
     },
     "execution_count": 6,
     "metadata": {},
     "output_type": "execute_result"
    }
   ],
   "source": [
    "result"
   ]
  },
  {
   "cell_type": "code",
   "execution_count": null,
   "id": "f03227a2-ee49-44e5-af83-0abcd3b70b29",
   "metadata": {},
   "outputs": [],
   "source": []
  }
 ],
 "metadata": {
  "kernelspec": {
   "display_name": "Python 3 (ipykernel)",
   "language": "python",
   "name": "python3"
  },
  "language_info": {
   "codemirror_mode": {
    "name": "ipython",
    "version": 3
   },
   "file_extension": ".py",
   "mimetype": "text/x-python",
   "name": "python",
   "nbconvert_exporter": "python",
   "pygments_lexer": "ipython3",
   "version": "3.12.7"
  }
 },
 "nbformat": 4,
 "nbformat_minor": 5
}
